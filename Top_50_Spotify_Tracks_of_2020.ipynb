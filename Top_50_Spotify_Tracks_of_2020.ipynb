{
  "nbformat": 4,
  "nbformat_minor": 0,
  "metadata": {
    "colab": {
      "provenance": [],
      "authorship_tag": "ABX9TyMJm1r0D9pRXLZYhWW2B0I+",
      "include_colab_link": true
    },
    "kernelspec": {
      "name": "python3",
      "display_name": "Python 3"
    },
    "language_info": {
      "name": "python"
    }
  },
  "cells": [
    {
      "cell_type": "markdown",
      "metadata": {
        "id": "view-in-github",
        "colab_type": "text"
      },
      "source": [
        "<a href=\"https://colab.research.google.com/github/pboric/Project-2/blob/main/Top_50_Spotify_Tracks_of_2020.ipynb\" target=\"_parent\"><img src=\"https://colab.research.google.com/assets/colab-badge.svg\" alt=\"Open In Colab\"/></a>"
      ]
    },
    {
      "cell_type": "markdown",
      "source": [
        "# Top 50 Spotify Tracks of 2020\n",
        "\n",
        "## Context\n",
        "Imagine that you are a data analyst working for Spotify. Your team is responsible for content analysis, and in this quarter, you have decided to analyze Spotify's top hits and quantify what makes a hit song. Your team's product manager has many ideas and prepared a list of questions (requirements) that she wants you to get answers to. After reviewing the list of over 20 questions, you are not in a good mood - you'll have to work a couple of days to get all the answers. Luckily, a few days ago, an experienced data scientist working in your team queried the top 50 tracks for her machine learning project and agreed to share the data with you. This is a significant help - your SQL skills are not too sharp yet, and you don't yet know where to find all the relevant tables in your data warehouse. With this dataset, you are confident that you'll be able to answer all your PM's questions and maybe even look into some things that she didn't ask for.\n",
        "\n",
        "## Objectives for this Part\n",
        "- Practice working with data from **Kaggle**.\n",
        "- Practice performing basic **EDA**.\n",
        "- Practice reading data, performing queries and filtering data using **Pandas**.\n",
        "  \n",
        "## Requirements\n",
        "- Download the data from **Spotify Top 50 Tracks of 2020 dataset**.\n",
        "- Load the data using **Pandas**.\n",
        "- Perform **data cleaning** by:\n",
        "    - Handling missing values.\n",
        "    - Removing duplicate samples and features.\n",
        "    - Treating the outliers.\n",
        "- Perform exploratory data analysis. Your analysis should provide answers to these questions:\n",
        "    - How many observations are there in this dataset?\n",
        "    - How many features this dataset has?\n",
        "    - Which of the features are categorical?\n",
        "    - Which of the features are numeric?\n",
        "    - Are there any artists that have more than 1 popular track? If yes, which and how many?\n",
        "    - Who was the most popular artist?\n",
        "    - How many artists in total have their songs in the top 50?\n",
        "    - Are there any albums that have more than 1 popular track? If yes, which and how many?\n",
        "    - How many albums in total have their songs in the top 50?\n",
        "    - Which tracks have a danceability score above 0.7?\n",
        "    - Which tracks have a danceability score below 0.4?\n",
        "    - Which tracks have their loudness above -5?\n",
        "    - Which tracks have their loudness below -8?\n",
        "    - Which track is the longest?\n",
        "    - Which track is the shortest?\n",
        "    - Which genre is the most popular?\n",
        "    - Which genres have just one song on the top 50?\n",
        "    - How many genres in total are represented in the top 50?\n",
        "    - Which features are strongly positively correlated?\n",
        "    - Which features are strongly negatively correlated?\n",
        "    - Which features are not correlated?\n",
        "- How does the danceability score compare between Pop, Hip-Hop/Rap, Dance/Electronic, and Alternative/Indie genres?\n",
        "- How does the loudness score compare between Pop, Hip-Hop/Rap, Dance/Electronic, and Alternative/Indie genres?\n",
        "- How does the acousticness score compare between Pop, Hip-Hop/Rap, Dance/Electronic, and Alternative/Indie genres?\n",
        "- Provide clear explanations in your notebook. Your explanations should inform the reader what you are trying to achieve, what results you got, - and what these results mean.\n",
        "- Provide suggestions about how your analysis can be improved.\n",
        "\n",
        "## Evaluation Criteria\n",
        "- **Adherence to the requirements**.\n",
        "    - How well did you meet the requirements?\n",
        "- **Code quality**.\n",
        "    - Was your code well-structured?\n",
        "    - Did you use the correct levels of abstraction?\n",
        "    - Did you remove commented-out and unused code?\n",
        "    - Did you adhere to the PEP8?\n",
        "- **Code performance**.\n",
        "    - Did you use suitable algorithms and data structures to solve the problems?\n",
        "\n",
        "\n",
        "## Screenshot of the Spotify Top 50 Tracks of 2020 dataset\n",
        "\n",
        "![dataset.png](data:image/png;base64,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)"
      ],
      "metadata": {
        "id": "bLlL5vyiACLG"
      }
    },
    {
      "cell_type": "markdown",
      "source": [
        "# Downloading, loading and data cleaning"
      ],
      "metadata": {
        "id": "bEkdU6XWKqtG"
      }
    },
    {
      "cell_type": "code",
      "source": [
        "#Install opendatasets library\n",
        "!pip install opendatasets\n",
        "\n",
        "# Import necessary libraries\n",
        "import pandas as pd\n",
        "import numpy as np\n",
        "import opendatasets as od\n",
        "\n",
        "# Load the data\n",
        "od.download(\"https://www.kaggle.com/datasets/atillacolak/top-50-spotify-tracks-2020\")\n",
        "df = pd.read_csv('top-50-spotify-tracks-2020/spotifytoptracks.csv')\n",
        "\n",
        "# Drop the 'Unnamed: 0' column\n",
        "df = df.drop(columns=['Unnamed: 0'])"
      ],
      "metadata": {
        "colab": {
          "base_uri": "https://localhost:8080/"
        },
        "id": "bpy2USPAK29j",
        "outputId": "4fbfc521-7f5d-4ef0-fb29-bd18a4f70ee3"
      },
      "execution_count": 1,
      "outputs": [
        {
          "output_type": "stream",
          "name": "stdout",
          "text": [
            "Collecting opendatasets\n",
            "  Downloading opendatasets-0.1.22-py3-none-any.whl (15 kB)\n",
            "Requirement already satisfied: tqdm in /usr/local/lib/python3.10/dist-packages (from opendatasets) (4.66.1)\n",
            "Requirement already satisfied: kaggle in /usr/local/lib/python3.10/dist-packages (from opendatasets) (1.5.16)\n",
            "Requirement already satisfied: click in /usr/local/lib/python3.10/dist-packages (from opendatasets) (8.1.7)\n",
            "Requirement already satisfied: six>=1.10 in /usr/local/lib/python3.10/dist-packages (from kaggle->opendatasets) (1.16.0)\n",
            "Requirement already satisfied: certifi in /usr/local/lib/python3.10/dist-packages (from kaggle->opendatasets) (2023.11.17)\n",
            "Requirement already satisfied: python-dateutil in /usr/local/lib/python3.10/dist-packages (from kaggle->opendatasets) (2.8.2)\n",
            "Requirement already satisfied: requests in /usr/local/lib/python3.10/dist-packages (from kaggle->opendatasets) (2.31.0)\n",
            "Requirement already satisfied: python-slugify in /usr/local/lib/python3.10/dist-packages (from kaggle->opendatasets) (8.0.1)\n",
            "Requirement already satisfied: urllib3 in /usr/local/lib/python3.10/dist-packages (from kaggle->opendatasets) (2.0.7)\n",
            "Requirement already satisfied: bleach in /usr/local/lib/python3.10/dist-packages (from kaggle->opendatasets) (6.1.0)\n",
            "Requirement already satisfied: webencodings in /usr/local/lib/python3.10/dist-packages (from bleach->kaggle->opendatasets) (0.5.1)\n",
            "Requirement already satisfied: text-unidecode>=1.3 in /usr/local/lib/python3.10/dist-packages (from python-slugify->kaggle->opendatasets) (1.3)\n",
            "Requirement already satisfied: charset-normalizer<4,>=2 in /usr/local/lib/python3.10/dist-packages (from requests->kaggle->opendatasets) (3.3.2)\n",
            "Requirement already satisfied: idna<4,>=2.5 in /usr/local/lib/python3.10/dist-packages (from requests->kaggle->opendatasets) (3.6)\n",
            "Installing collected packages: opendatasets\n",
            "Successfully installed opendatasets-0.1.22\n",
            "Please provide your Kaggle credentials to download this dataset. Learn more: http://bit.ly/kaggle-creds\n",
            "Your Kaggle username: petarkreimirbori\n",
            "Your Kaggle Key: ··········\n",
            "Downloading top-50-spotify-tracks-2020.zip to ./top-50-spotify-tracks-2020\n"
          ]
        },
        {
          "output_type": "stream",
          "name": "stderr",
          "text": [
            "100%|██████████| 4.40k/4.40k [00:00<00:00, 1.23MB/s]"
          ]
        },
        {
          "output_type": "stream",
          "name": "stdout",
          "text": [
            "\n"
          ]
        },
        {
          "output_type": "stream",
          "name": "stderr",
          "text": [
            "\n"
          ]
        }
      ]
    },
    {
      "cell_type": "markdown",
      "source": [
        "This code is used to download a dataset from **Kaggle**, load it into a **pandas** DataFrame, and perform some initial preprocessing.\n",
        "\n",
        "Here’s a step-by-step explanation:\n",
        "\n",
        "- **!pip install opendatasets**: This line installs the opendatasets library, which is a utility for downloading and extracting datasets from online sources like Kaggle.\n",
        "\n",
        "- **import pandas as pd, import numpy as np, import opendatasets as od**: These lines import the necessary libraries. pandas is used for data manipulation and analysis, numpy is used for numerical computations, and opendatasets is used for downloading datasets.\n",
        "\n",
        "- **od.download(\"https://www.kaggle.com/datasets/atillacolak/top-50-spotify-tracks-2020\")**: This line downloads the dataset from the provided **Kaggle** URL using the opendatasets library. The dataset is downloaded as a zip file and then extracted into a directory.\n",
        "\n",
        "- **df = pd.read_csv('top-50-spotify-tracks-2020/spotifytoptracks.csv')**: This line reads the CSV file from the extracted directory into a pandas DataFrame. The DataFrame **df** now contains the data from the CSV file.\n",
        "\n",
        "- **df = df.drop(columns=['Unnamed: 0'])**: This line drops the ‘Unnamed: 0’ column from the DataFrame. This is typically done to remove unnecessary columns from the DataFrame.\n",
        "\n",
        "So, in summary, this code downloads a dataset from Kaggle, loads it into a pandas DataFrame, and removes an unnecessary column from the DataFrame."
      ],
      "metadata": {
        "id": "7Eoc0M4hLS7B"
      }
    },
    {
      "cell_type": "markdown",
      "source": [
        "#How many observations are there in this dataset?\n",
        "\n",
        "The number of observations in a dataset is the number of rows it has. Each observation represents a different data point or sample."
      ],
      "metadata": {
        "id": "S8q1wOlJzjJP"
      }
    },
    {
      "cell_type": "code",
      "source": [
        "# Number of observations\n",
        "print('Number of observations:', df.shape[0], \"\\n\")"
      ],
      "metadata": {
        "colab": {
          "base_uri": "https://localhost:8080/"
        },
        "id": "rtdYaHJkzsLy",
        "outputId": "5ea34e41-4877-43e2-ff1e-494adac428d5"
      },
      "execution_count": 2,
      "outputs": [
        {
          "output_type": "stream",
          "name": "stdout",
          "text": [
            "Number of observations: 50 \n",
            "\n"
          ]
        }
      ]
    },
    {
      "cell_type": "markdown",
      "source": [
        "Here, **df.shape[0]** returns the number of rows in the DataFrame **df**, which is the number of observations in the data.\n",
        "\n",
        "In the context of **df.shape[0]**, the number 0 is an index that refers to the first element of the shape tuple of the DataFrame **df**.\n",
        "\n",
        "*The shape attribute of a pandas DataFrame is a tuple representing the dimensionality of the DataFrame. It’s in the format (n,m), where n is the number of rows and m is the number of columns.*\n",
        "\n",
        "When you use **df.shape[0]**, you’re asking for the first element of the tuple, which is the number of rows in the DataFrame. In other words, it represents the number of observations (or samples) in your dataset.\n",
        "\n",
        "In this case we see that the number of observations is 50 which means there are 50 rows in the dataset."
      ],
      "metadata": {
        "id": "ikz00wzedV8l"
      }
    },
    {
      "cell_type": "markdown",
      "source": [
        "#How many features this dataset has?\n",
        "\n",
        "The number of features in a dataset is the number of columns it has. Each feature represents a different piece of information that the dataset contains."
      ],
      "metadata": {
        "id": "uyowIrnSz03a"
      }
    },
    {
      "cell_type": "code",
      "source": [
        "# Number of features\n",
        "print('Number of features:', df.shape[1], \"\\n\")"
      ],
      "metadata": {
        "colab": {
          "base_uri": "https://localhost:8080/"
        },
        "id": "ERCl7tjSz5v3",
        "outputId": "46af3bb0-f7fb-4b06-f2db-fb1ca2821700"
      },
      "execution_count": 4,
      "outputs": [
        {
          "output_type": "stream",
          "name": "stdout",
          "text": [
            "Number of features: 16 \n",
            "\n"
          ]
        }
      ]
    },
    {
      "cell_type": "markdown",
      "source": [
        "Here, **df.shape[1]** returns the number of columns in the DataFrame **df**, which is the number of features in the data.\n",
        "\n",
        "In the context of **df.shape[1]**, the number 1 is an index that refers to the second element of the shape tuple of the DataFrame **df**.\n",
        "\n",
        "*The shape attribute of a pandas DataFrame is a tuple representing the dimensionality of the DataFrame. It’s in the format (n,m), where n is the number of rows and m is the number of columns.*\n",
        "\n",
        "When you use *df.shape[1]*, you’re asking for the second element of the tuple, which is the number of columns in the DataFrame. In other words, it represents the number of features (or variables) in the dataset.\n",
        "\n",
        "In this case, after we've cleaned the dataset using the **drop** method of redundant first column which is unnamed and contains only indexing numbers, we see that the number of features is 16 which means there are 16 columns in the dataset (there would be 17 if we didn't exclude the first column from the analysis)."
      ],
      "metadata": {
        "id": "yNnGL5ytI6ug"
      }
    },
    {
      "cell_type": "markdown",
      "source": [
        "#Which of the features are categorical?\n",
        "\n",
        "Categorical features, also known as categorical variables, are those that can take on one of a limited, and usually fixed, number of possible values. These values represent different categories or groups.\n",
        "\n",
        "For example, consider a feature called “Color” in a dataset of cars. The “Color” feature could take on values such as “Red”, “Blue”, “Black”, and so on. Because these values represent different categories, “Color” is a categorical feature.\n",
        "\n",
        "Categorical features can be further divided into two types:\n",
        "\n",
        "- Nominal: These are categorical features where the categories do not have any kind of order or priority. In the “Color” example, there’s no inherent order between “Red”, “Blue”, and “Black”, so “Color” is a nominal feature.\n",
        "\n",
        "- Ordinal: These are categorical features that do have an order. For example, a feature like “Size” with values “Small”, “Medium”, and “Large” would be an ordinal feature, because there’s an inherent order in the categories."
      ],
      "metadata": {
        "id": "q9Sta-J60lHS"
      }
    },
    {
      "cell_type": "code",
      "source": [
        "# Categorical features\n",
        "print('Categorical features:')\n",
        "for feature in df.select_dtypes(include=['object']).columns.tolist():\n",
        "    print(feature)"
      ],
      "metadata": {
        "colab": {
          "base_uri": "https://localhost:8080/"
        },
        "id": "Jt_yu_4-0qmU",
        "outputId": "aae54e1c-0885-4107-b824-cdbe9b56affd"
      },
      "execution_count": 5,
      "outputs": [
        {
          "output_type": "stream",
          "name": "stdout",
          "text": [
            "Categorical features:\n",
            "artist\n",
            "album\n",
            "track_name\n",
            "track_id\n",
            "genre\n"
          ]
        }
      ]
    },
    {
      "cell_type": "markdown",
      "source": [
        "This piece of code prints the names of all the features (columns) in the DataFrame df that are of object data type.\n",
        "\n",
        "Here’s a breakdown of what it does:\n",
        "\n",
        "**df.select_dtypes(include=['object'])**: This selects columns in df that have the data type ‘object’. In pandas, ‘object’ usually means string (text).\n",
        "\n",
        "**.columns**: This gets the column labels of the DataFrame.\n",
        "\n",
        "**.tolist()**: This converts the column labels to a list.\n",
        "\n",
        "**for feature in ... : print(feature)**: This loops over each item in the list (each item is a column name) and prints it.\n",
        "\n",
        "So, if there is a DataFrame df with columns ‘A’, ‘B’, ‘C’, where ‘A’ and ‘B’ contain strings and ‘C’ contains numbers, this code will print:\n",
        "\n",
        "A  \n",
        "B\n",
        "\n",
        "In our case we have nominal categorical features which do not have any kind of order or priority."
      ],
      "metadata": {
        "id": "wL0u3PJbfJYp"
      }
    },
    {
      "cell_type": "markdown",
      "source": [
        "#Which of the features are numeric?\n",
        "\n",
        "Numerical features, also known as quantitative or continuous features, are those that can take on any value within a certain range. These values are typically numbers and can be manipulated mathematically.\n",
        "\n",
        "Numerical features can be further divided into two types:\n",
        "\n",
        "- Interval: These are numerical features where the difference between two values is meaningful. For example, temperature in Celsius is an interval feature because the difference between 20°C and 30°C is the same as the difference between 30°C and 40°C.\n",
        "\n",
        "- Ratio: These are numerical features where both the difference and the ratio between two values are meaningful. For example, age is a ratio feature because not only is the difference between 20 years and 30 years the same as between 30 years and 40 years, but a person who is 20 years old is also half as old as a person who is 40 years old."
      ],
      "metadata": {
        "id": "3EnrmuYR0zju"
      }
    },
    {
      "cell_type": "code",
      "source": [
        "# Numerical features\n",
        "print('Numerical features:')\n",
        "for feature in df.select_dtypes(include=[np.number]).columns.tolist():\n",
        "    print(feature)"
      ],
      "metadata": {
        "colab": {
          "base_uri": "https://localhost:8080/"
        },
        "id": "SHj5YeNo03tj",
        "outputId": "4ab6f3b3-6ef7-4c0e-d45e-c1f7c1200be5"
      },
      "execution_count": 6,
      "outputs": [
        {
          "output_type": "stream",
          "name": "stdout",
          "text": [
            "Numerical features:\n",
            "energy\n",
            "danceability\n",
            "key\n",
            "loudness\n",
            "acousticness\n",
            "speechiness\n",
            "instrumentalness\n",
            "liveness\n",
            "valence\n",
            "tempo\n",
            "duration_ms\n"
          ]
        }
      ]
    },
    {
      "cell_type": "markdown",
      "source": [
        "This piece of code prints the names of all the features (columns) in the DataFrame **df** that are of object data type.\n",
        "\n",
        "Here’s a breakdown of what it does:\n",
        "\n",
        "- **df.select_dtypes(include=['object'])**: This selects columns in df that have the data type ‘object’. In pandas, ‘object’ usually means string (text).\n",
        "\n",
        "- **.columns**: This gets the column labels of the DataFrame.\n",
        "\n",
        "- **.tolist()**: This converts the column labels to a list.\n",
        "\n",
        "- **for feature in ... : print(feature)**: This loops over each item in the list (each item is a column name) and prints it.\n",
        "\n",
        "So, if you have a DataFrame **df** with columns ‘A’, ‘B’, ‘C’, where ‘A’ and ‘B’ contain strings and ‘C’ contains numbers, this code will print:\n",
        "\n",
        "A  \n",
        "B\n",
        "\n",
        "In our case the listed features are all ratio variables, except for the “key” feature which is an interval variable.\n",
        "\n",
        "*Here’s why:*\n",
        "\n",
        "*Energy, Danceability, Loudness, Acousticness, Speechiness, Instrumentalness, Liveness, Valence, Tempo, Duration_ms: These are all ratio variables because they have a clear definition of zero. For example, a song with a duration of 0 milliseconds is a song that does not exist or has no length. Similarly, a song with 0 energy or 0 tempo has a clear meaning.*\n",
        "\n",
        "*Key: This is an interval variable. The keys of a song are cyclical in nature, going from C, C#, D, D#, and so on up to B, and then back to C. There’s no absolute zero point that indicates the absence of a key. Also, the difference between keys is meaningful (e.g., the difference between C and C# is the same as the difference between D and D#), which is a characteristic of interval variables.*"
      ],
      "metadata": {
        "id": "4BRv5_fX8yWW"
      }
    },
    {
      "cell_type": "markdown",
      "source": [
        "#Are there any artists that have more than 1 popular track? If yes, which and how many?"
      ],
      "metadata": {
        "id": "abG1L_3q07eY"
      }
    },
    {
      "cell_type": "code",
      "source": [
        "# Artists with more than 1 popular track\n",
        "popular_artists = df['artist'].value_counts()\n",
        "popular_artists = popular_artists[popular_artists > 1]\n",
        "\n",
        "if len(popular_artists) > 0:\n",
        "    print('Artists with more than 1 popular track:')\n",
        "    for artist, count in popular_artists.items():\n",
        "        print(artist, count)\n",
        "else:\n",
        "    print('No artists have more than 1 popular track.')"
      ],
      "metadata": {
        "colab": {
          "base_uri": "https://localhost:8080/"
        },
        "id": "17-p0UW-1ADB",
        "outputId": "454a8a19-6c04-4b8c-9b5b-6680001b5cf6"
      },
      "execution_count": 7,
      "outputs": [
        {
          "output_type": "stream",
          "name": "stdout",
          "text": [
            "Artists with more than 1 popular track:\n",
            "Billie Eilish 3\n",
            "Dua Lipa 3\n",
            "Travis Scott 3\n",
            "Justin Bieber 2\n",
            "Harry Styles 2\n",
            "Lewis Capaldi 2\n",
            "Post Malone 2\n"
          ]
        }
      ]
    },
    {
      "cell_type": "markdown",
      "source": [
        "This piece of code identifies and prints the artists who have more than one popular track in the DataFrame **df**. Here’s a breakdown of what it does:\n",
        "\n",
        "- **df['artist'].value_counts()**: This counts the number of occurrences of each artist in the ‘artist’ column of the DataFrame df. The result is a pandas Series where the index is the artist names and the values are the counts of their popular tracks.\n",
        "\n",
        "- **popular_artists = popular_artists[popular_artists > 1]**: This filters the Series to only include artists with more than one popular track.\n",
        "\n",
        "- **if len(popular_artists) > 0:**: This checks if there are any artists with more than one popular track.\n",
        "\n",
        "- **for artist, count in popular_artists.items(): print(artist, count)**: If there are, this loop prints each of these artists and the number of their popular tracks.\n",
        "\n",
        "- **else: print('No artists have more than 1 popular track.')**: If there are no artists with more than one popular track, it prints ‘No artists have more than 1 popular track.’\n",
        "\n",
        "So, if you have a DataFrame **df** with an ‘artist’ column containing [‘Artist1’, ‘Artist2’, ‘Artist1’, ‘Artist3’], this code will print:\n",
        "\n",
        "Artists with more than 1 popular track:  \n",
        "Artist1 2"
      ],
      "metadata": {
        "id": "MdMA9rdsux2c"
      }
    },
    {
      "cell_type": "markdown",
      "source": [
        "#Who was the most popular artist?"
      ],
      "metadata": {
        "id": "2TIouejf1LJN"
      }
    },
    {
      "cell_type": "code",
      "source": [
        "# Most popular artist(s)\n",
        "max_count = popular_artists.max()\n",
        "most_popular_artists = popular_artists[popular_artists == max_count]\n",
        "\n",
        "print('Most popular artist(s):')\n",
        "for artist in most_popular_artists.index:\n",
        "    print(artist)"
      ],
      "metadata": {
        "colab": {
          "base_uri": "https://localhost:8080/"
        },
        "id": "bQfMm5fB1M5V",
        "outputId": "d4337c19-23bf-4b12-81eb-78dbce1768f1"
      },
      "execution_count": 8,
      "outputs": [
        {
          "output_type": "stream",
          "name": "stdout",
          "text": [
            "Most popular artist(s):\n",
            "Billie Eilish\n",
            "Dua Lipa\n",
            "Travis Scott\n"
          ]
        }
      ]
    },
    {
      "cell_type": "markdown",
      "source": [
        "This piece of code is used to find and print the most popular artist(s) from a given list or data structure named **popular_artists**.\n",
        "\n",
        "Here’s a breakdown of what it does:\n",
        "\n",
        "- **max_count = popular_artists.max()**: This line finds the maximum count (i.e., the highest popularity) in the **popular_artists** data structure and assigns it to the variable **max_count**.\n",
        "\n",
        "- **most_popular_artists = popular_artists[popular_artists == max_count]**: This line creates a new data structure **most_popular_artists** that only includes the artists from **popular_artists** whose popularity is equal to **max_count** (i.e., the most popular).\n",
        "\n",
        "- **print('Most popular artist(s):')**: This line prints the string ‘Most popular artist(s):’ to the console.\n",
        "\n",
        "- **for artist in most_popular_artists.index: print(artist)**: This loop goes through each artist in the most_popular_artists data structure and prints their name to the console.\n",
        "\n",
        "So, in summary, this code prints the name(s) of the most popular artist(s) from the **popular_artists** data structure. If there are multiple artists with the same highest popularity, it will print all of them."
      ],
      "metadata": {
        "id": "evZA2-Fiuvn1"
      }
    },
    {
      "cell_type": "markdown",
      "source": [
        "#How many artists in total have their songs in the top 50?"
      ],
      "metadata": {
        "id": "_UewPeN-1Zh2"
      }
    },
    {
      "cell_type": "code",
      "source": [
        "# Total number of artists\n",
        "print('Total number of artists:', df['artist'].nunique(), \"\\n\")"
      ],
      "metadata": {
        "colab": {
          "base_uri": "https://localhost:8080/"
        },
        "id": "zSmfM0Vf1baX",
        "outputId": "0c09cba5-aba1-434d-eb24-6d22f8ba5734"
      },
      "execution_count": 9,
      "outputs": [
        {
          "output_type": "stream",
          "name": "stdout",
          "text": [
            "Total number of artists: 40 \n",
            "\n"
          ]
        }
      ]
    },
    {
      "cell_type": "markdown",
      "source": [
        "This line of code prints the total number of unique artists in the ‘artist’ column of the DataFrame **df**.\n",
        "\n",
        "Here’s a breakdown:\n",
        "\n",
        "- **df['artist']**: This part selects the ‘artist’ column from the DataFrame df.\n",
        "\n",
        "- **.nunique()**: This method returns the number of unique values in the selected column.\n",
        "\n",
        "- **print('Total number of artists:', df['artist'].nunique(), \"\\n\")**: This line prints a string ‘Total number of artists:’, followed by the number of unique artists, and then a newline character (\"\\n\").\n",
        "\n",
        "So, in summary, this code is used to display the total number of unique artists in the DataFrame df. If there are multiple entries for the same artist in the DataFrame, this code will count them as one."
      ],
      "metadata": {
        "id": "fEJxSegRumys"
      }
    },
    {
      "cell_type": "markdown",
      "source": [
        "#Are there any albums that have more than 1 popular track? If yes, which and how many?"
      ],
      "metadata": {
        "id": "IJ3wvgUa1oli"
      }
    },
    {
      "cell_type": "code",
      "source": [
        "# Albums with more than 1 popular track\n",
        "popular_albums = df['album'].value_counts()\n",
        "popular_albums = popular_albums[popular_albums > 1]\n",
        "print('Albums with more than 1 popular track:')\n",
        "for album, count in popular_albums.items():\n",
        "    print(album, count)"
      ],
      "metadata": {
        "colab": {
          "base_uri": "https://localhost:8080/"
        },
        "id": "x9l6koZx1qMa",
        "outputId": "bca87810-07b0-4174-a1e9-454700904bb7"
      },
      "execution_count": 10,
      "outputs": [
        {
          "output_type": "stream",
          "name": "stdout",
          "text": [
            "Albums with more than 1 popular track:\n",
            "Future Nostalgia 3\n",
            "Hollywood's Bleeding 2\n",
            "Fine Line 2\n",
            "Changes 2\n"
          ]
        }
      ]
    },
    {
      "cell_type": "markdown",
      "source": [
        "This piece of code is used to find and print the albums that have more than one popular track in a DataFrame df.\n",
        "\n",
        "Here’s a breakdown:\n",
        "\n",
        "- **popular_albums = df['album'].value_counts()**: This line creates a Series popular_albums where the index is the album names from the ‘album’ column of df, and the values are the counts of each album.\n",
        "\n",
        "- **popular_albums = popular_albums[popular_albums > 1]**: This line filters popular_albums to only include albums that have more than one track (i.e., their count is greater than 1).\n",
        "\n",
        "- **print('Albums with more than 1 popular track:')**: This line prints the string ‘Albums with more than 1 popular track:’ to the console.\n",
        "\n",
        "- **for album, count in popular_albums.items(): print(album, count)**: This loop goes through each album in popular_albums and prints the album name and its track count to the console.\n",
        "\n",
        "So, in summary, this code prints the names and track counts of the albums that have more than one popular track in the DataFrame df. If there are multiple tracks from the same album in df, this code will count them and print the album name if the count is more than one."
      ],
      "metadata": {
        "id": "3-lQbUMytUUL"
      }
    },
    {
      "cell_type": "markdown",
      "source": [
        "#How many albums in total have their songs in the top 50?#"
      ],
      "metadata": {
        "id": "l9dIdzqb1yTq"
      }
    },
    {
      "cell_type": "code",
      "source": [
        "# Total number of albums\n",
        "print('Total number of albums:', df['album'].nunique(), \"\\n\")"
      ],
      "metadata": {
        "colab": {
          "base_uri": "https://localhost:8080/"
        },
        "id": "0C5LeQLN2Deu",
        "outputId": "f5378fc7-a438-49ae-ce58-fe6e76da89ff"
      },
      "execution_count": 11,
      "outputs": [
        {
          "output_type": "stream",
          "name": "stdout",
          "text": [
            "Total number of albums: 45 \n",
            "\n"
          ]
        }
      ]
    },
    {
      "cell_type": "markdown",
      "source": [
        "This line of code prints the total number of unique albums in the ‘album’ column of the DataFrame df.\n",
        "\n",
        "Here’s a breakdown:\n",
        "\n",
        "- **df['album']**: This part selects the ‘album’ column from the DataFrame df.\n",
        "\n",
        "- **.nunique()**: This method returns the number of unique values in the selected column.\n",
        "\n",
        "- **print('Total number of albums:', df['album'].nunique(), \"\\n\")**: This line prints a string ‘Total number of albums:’, followed by the number of unique albums, and then a newline character (\"\\n\").\n",
        "\n",
        "So, in summary, this code is used to display the total number of unique albums in the DataFrame df. If there are multiple entries for the same album in the DataFrame, this code will count them as one."
      ],
      "metadata": {
        "id": "jRr1_c7sFX16"
      }
    },
    {
      "cell_type": "markdown",
      "source": [
        "#Which tracks have a danceability score above 0.7?"
      ],
      "metadata": {
        "id": "gdLqGwdG2Pdd"
      }
    },
    {
      "cell_type": "code",
      "source": [
        "# Tracks with danceability score above 0.7\n",
        "print('Tracks with danceability score above 0.7:')\n",
        "for track in df[df['danceability'] > 0.7]['track_name'].tolist():\n",
        "    print(track)"
      ],
      "metadata": {
        "colab": {
          "base_uri": "https://localhost:8080/"
        },
        "id": "fGPSThHC2RqD",
        "outputId": "d34bbeb0-7323-49fe-e704-f702058bc335"
      },
      "execution_count": 12,
      "outputs": [
        {
          "output_type": "stream",
          "name": "stdout",
          "text": [
            "Tracks with danceability score above 0.7:\n",
            "Dance Monkey\n",
            "The Box\n",
            "Roses - Imanbek Remix\n",
            "Don't Start Now\n",
            "ROCKSTAR (feat. Roddy Ricch)\n",
            "death bed (coffee for your head)\n",
            "Falling\n",
            "Tusa\n",
            "Blueberry Faygo\n",
            "Intentions (feat. Quavo)\n",
            "Toosie Slide\n",
            "Say So\n",
            "Memories\n",
            "Life Is Good (feat. Drake)\n",
            "Savage Love (Laxed - Siren Beat)\n",
            "Breaking Me\n",
            "everything i wanted\n",
            "Señorita\n",
            "bad guy\n",
            "WAP (feat. Megan Thee Stallion)\n",
            "Sunday Best\n",
            "Godzilla (feat. Juice WRLD)\n",
            "Break My Heart\n",
            "Dynamite\n",
            "Supalonely (feat. Gus Dapperton)\n",
            "Sunflower - Spider-Man: Into the Spider-Verse\n",
            "Hawái\n",
            "Ride It\n",
            "goosebumps\n",
            "RITMO (Bad Boys For Life)\n",
            "THE SCOTTS\n",
            "SICKO MODE\n"
          ]
        }
      ]
    },
    {
      "cell_type": "markdown",
      "source": [
        "This piece of code prints the names of the tracks in a DataFrame df that have a ‘danceability’ score above 0.7.\n",
        "\n",
        "Here’s a breakdown:\n",
        "\n",
        "- **df[df['danceability'] > 0.7]['track_name']**: This part selects the ‘track_name’ of the rows in df where the ‘danceability’ score is greater than 0.7.\n",
        "\n",
        "- **.tolist()**: This method converts the selected track names into a list.\n",
        "\n",
        "- **for track in df[df['danceability'] > 0.7]['track_name'].tolist(): print(track)**: This loop goes through each track in the list and prints the track name to the console.\n",
        "\n",
        "- **print('Tracks with danceability score above 0.7:')**: This line prints the string ‘Tracks with danceability score above 0.7:’ to the console.\n",
        "\n",
        "In summary, this code prints the names of the tracks that have a ‘danceability’ score above 0.7 in the DataFrame df. If there are multiple tracks with a ‘danceability’ score above 0.7, this code will print all of them. The ‘danceability’ score is a measure of how suitable a track is for dancing based on a combination of musical elements."
      ],
      "metadata": {
        "id": "xNoyDwBrGTJG"
      }
    },
    {
      "cell_type": "markdown",
      "source": [
        "#Which tracks have a danceability score below 0.4?"
      ],
      "metadata": {
        "id": "cxwpZUie2lDV"
      }
    },
    {
      "cell_type": "code",
      "source": [
        "# Tracks with danceability score below 0.4\n",
        "print('Tracks with danceability score below 0.4:')\n",
        "for track in df[df['danceability'] < 0.4]['track_name'].tolist():\n",
        "    print(track)"
      ],
      "metadata": {
        "colab": {
          "base_uri": "https://localhost:8080/"
        },
        "id": "7kjCEZ1i2m-o",
        "outputId": "04fc692d-2a39-41d1-d347-0a90cc98f472"
      },
      "execution_count": 13,
      "outputs": [
        {
          "output_type": "stream",
          "name": "stdout",
          "text": [
            "Tracks with danceability score below 0.4:\n",
            "lovely (with Khalid)\n"
          ]
        }
      ]
    },
    {
      "cell_type": "markdown",
      "source": [
        "This line of code does the same as the one above except the condition is score below 0.4."
      ],
      "metadata": {
        "id": "C7hf2P7nHAb5"
      }
    },
    {
      "cell_type": "markdown",
      "source": [
        "#Which tracks have their loudness above -5?"
      ],
      "metadata": {
        "id": "wvP1-lO63MCE"
      }
    },
    {
      "cell_type": "code",
      "source": [
        "# Tracks with loudness above -5\n",
        "print('Tracks with loudness above -5:')\n",
        "for track in df[df['loudness'] > -5]['track_name'].tolist():\n",
        "    print(track)"
      ],
      "metadata": {
        "colab": {
          "base_uri": "https://localhost:8080/"
        },
        "id": "WSxc8ccc3OC0",
        "outputId": "e3c9c898-a2ec-4724-9260-2e54e9981007"
      },
      "execution_count": 14,
      "outputs": [
        {
          "output_type": "stream",
          "name": "stdout",
          "text": [
            "Tracks with loudness above -5:\n",
            "Don't Start Now\n",
            "Watermelon Sugar\n",
            "Tusa\n",
            "Circles\n",
            "Before You Go\n",
            "Say So\n",
            "Adore You\n",
            "Mood (feat. iann dior)\n",
            "Break My Heart\n",
            "Dynamite\n",
            "Supalonely (feat. Gus Dapperton)\n",
            "Rain On Me (with Ariana Grande)\n",
            "Sunflower - Spider-Man: Into the Spider-Verse\n",
            "Hawái\n",
            "Ride It\n",
            "goosebumps\n",
            "Safaera\n",
            "Physical\n",
            "SICKO MODE\n"
          ]
        }
      ]
    },
    {
      "cell_type": "markdown",
      "source": [
        "This piece of code prints the names of the tracks in a DataFrame **df** that have a ‘loudness’ score above -5.\n",
        "\n",
        "Here’s a breakdown:\n",
        "\n",
        "- **df[df['loudness'] > -5]['track_name']**: This part selects the ‘track_name’ of the rows in **df** where the ‘loudness’ score is greater than -5.\n",
        "\n",
        "- **.tolist()**: This method converts the selected track names into a list.\n",
        "\n",
        "- **for track in df[df['loudness'] > -5]['track_name'].tolist(): print(track)**: This loop goes through each track in the list and prints the track name to the console.\n",
        "\n",
        "- **print('Tracks with loudness above -5:')**: This line prints the string ‘Tracks with loudness above -5:’ to the console.\n",
        "\n",
        "So, in summary, this code prints the names of the tracks that have a ‘loudness’ score above -5 in the DataFrame **df**. If there are multiple tracks with a ‘loudness’ score above -5, this code will print all of them."
      ],
      "metadata": {
        "id": "s85giYG9Lr9Q"
      }
    },
    {
      "cell_type": "markdown",
      "source": [
        "#Which tracks have their loudness below -8?"
      ],
      "metadata": {
        "id": "V1PFnKvt4jjM"
      }
    },
    {
      "cell_type": "code",
      "source": [
        "# Tracks with loudness below -8\n",
        "print('Tracks with loudness below -8:')\n",
        "for track in df[df['loudness'] < -8]['track_name'].tolist():\n",
        "    print(track)"
      ],
      "metadata": {
        "colab": {
          "base_uri": "https://localhost:8080/"
        },
        "id": "v1jzJj8q4pXi",
        "outputId": "2e5a82cd-aba9-4cb9-8bc7-8de8eb760c78"
      },
      "execution_count": null,
      "outputs": [
        {
          "output_type": "stream",
          "name": "stdout",
          "text": [
            "Tracks with loudness below -8:\n",
            "death bed (coffee for your head)\n",
            "Falling\n",
            "Toosie Slide\n",
            "Savage Love (Laxed - Siren Beat)\n",
            "everything i wanted\n",
            "bad guy\n",
            "HIGHEST IN THE ROOM\n",
            "lovely (with Khalid)\n",
            "If the World Was Ending - feat. Julia Michaels\n",
            "\n",
            "\n"
          ]
        }
      ]
    },
    {
      "cell_type": "markdown",
      "source": [
        "This line of code does the same as the one above except the condition is loudness below -8."
      ],
      "metadata": {
        "id": "KK0_yHJVMiLS"
      }
    },
    {
      "cell_type": "markdown",
      "source": [
        "#Which track is the longest?"
      ],
      "metadata": {
        "id": "_jRAX6MB408Q"
      }
    },
    {
      "cell_type": "code",
      "source": [
        "# Longest track\n",
        "max_duration = df['duration_ms'].max()\n",
        "longest_tracks = df[df['duration_ms'] == max_duration]['track_name']\n",
        "print('Longest track(s):')\n",
        "for track in longest_tracks:\n",
        "    print(track)"
      ],
      "metadata": {
        "colab": {
          "base_uri": "https://localhost:8080/"
        },
        "id": "XCiDQRBG44wz",
        "outputId": "9b77ead7-1059-44cc-aa66-171e236c9e49"
      },
      "execution_count": null,
      "outputs": [
        {
          "output_type": "stream",
          "name": "stdout",
          "text": [
            "Longest track(s):\n",
            "SICKO MODE\n"
          ]
        }
      ]
    },
    {
      "cell_type": "markdown",
      "source": [
        "This piece of code is used to find and print the name or names of the longest track(s) in a DataFrame **df**.\n",
        "\n",
        "Here’s a step-by-step explanation:\n",
        "\n",
        "- **max_duration = df['duration_ms'].max()**: This line finds the maximum duration (i.e., the longest track length) in the duration_ms column of **df** and assigns it to the variable **max_duration**.\n",
        "\n",
        "- **longest_tracks = df[df['duration_ms'] == max_duration]['track_name']**: This line creates a new Series longest_tracks that only includes the track names from **df** whose duration is equal to **max_duration** (i.e., the longest tracks).\n",
        "\n",
        "- **print('Longest track(s):')**: This line prints the string ‘Longest track(s):’ to the console.\n",
        "\n",
        "- **for track in longest_tracks: print(track)**: This loop goes through each track in longest_tracks and prints its name to the console.\n",
        "\n",
        "So, in summary, this code prints the name(s) of the longest track(s) from the **df** DataFrame. If there are multiple tracks with the same longest duration, it will print all of them."
      ],
      "metadata": {
        "id": "vBxiwhcdRbkb"
      }
    },
    {
      "cell_type": "markdown",
      "source": [
        "#Which track is the shortest?"
      ],
      "metadata": {
        "id": "ARe9q4OM487m"
      }
    },
    {
      "cell_type": "code",
      "source": [
        "# Shortest track\n",
        "min_duration = df['duration_ms'].min()\n",
        "shortest_tracks = df[df['duration_ms'] == min_duration]['track_name']\n",
        "print('Shortest track(s):')\n",
        "for track in shortest_tracks:\n",
        "    print(track)\n",
        "print(\"\\n\")"
      ],
      "metadata": {
        "colab": {
          "base_uri": "https://localhost:8080/"
        },
        "id": "e1f1aNco5Ax2",
        "outputId": "de9b76e3-917a-4c22-f6bb-197a9fa7ef7f"
      },
      "execution_count": null,
      "outputs": [
        {
          "output_type": "stream",
          "name": "stdout",
          "text": [
            "Shortest track(s):\n",
            "Mood (feat. iann dior)\n"
          ]
        }
      ]
    },
    {
      "cell_type": "markdown",
      "source": [
        "This part of the code instead of maximum duration looks for minimum duration and prints the name(s) of the shortest track(s) from **df** DataFrame. Same as the one above if there are multiple tracks it with the same shortest duration it will print all of them."
      ],
      "metadata": {
        "id": "NMH9QlyuRI8K"
      }
    },
    {
      "cell_type": "markdown",
      "source": [
        "#Which genre is the most popular?"
      ],
      "metadata": {
        "id": "UJsbPMYb5KIC"
      }
    },
    {
      "cell_type": "code",
      "source": [
        "# Most popular genre\n",
        "max_count = df['genre'].value_counts().max()\n",
        "most_popular_genres = df['genre'].value_counts()\n",
        "most_popular_genres = most_popular_genres[most_popular_genres == max_count]\n",
        "print('Most popular genre(s):')\n",
        "for genre in most_popular_genres.index:\n",
        "    print(genre)"
      ],
      "metadata": {
        "colab": {
          "base_uri": "https://localhost:8080/"
        },
        "id": "jysAUNWG5OEs",
        "outputId": "ef1d4d78-3a4f-441c-8917-4a1b3037578d"
      },
      "execution_count": null,
      "outputs": [
        {
          "output_type": "stream",
          "name": "stdout",
          "text": [
            "Most popular genre(s):\n",
            "Pop\n"
          ]
        }
      ]
    },
    {
      "cell_type": "markdown",
      "source": [
        "This line of code is used to find the most popular genre(s) in a DataFrame df that has a column named ‘genre’. Here’s a step-by-step explanation:\n",
        "\n",
        "- **max_count = df['genre'].value_counts().max()**: This line counts the frequency of each unique value in the ‘genre’ column of the DataFrame df using value_counts(). It then finds the maximum count (i.e., the highest frequency) using max() and assigns it to the variable max_count.\n",
        "\n",
        "- **most_popular_genres = df['genre'].value_counts()**: This line is similar to the first part of the previous line. It counts the frequency of each unique value in the ‘genre’ column and assigns the resulting Series to the variable most_popular_genres.\n",
        "\n",
        "- **most_popular_genres = most_popular_genres[most_popular_genres == max_count]**: This line filters most_popular_genres to only include genres whose count is equal to max_count (i.e., the most frequent count). The result is a Series where the index is the most popular genre(s) and the values are the counts.\n",
        "\n",
        "- **print('Most popular genre(s):')**: This line simply prints the string ‘Most popular genre(s):’ to the console.\n",
        "\n",
        "- **for genre in most_popular_genres.index:**: This line starts a loop that iterates over the index of most_popular_genres, which contains the most popular genre(s).\n",
        "\n",
        "- **print(genre)**: This line is inside the loop and is executed once for each genre in most_popular_genres.index. It prints the name of the genre to the console.\n",
        "\n",
        "So, in summary, this code finds the most popular genre(s) in the DataFrame **df** and prints them to the console. If there are multiple genres with the same highest count, it will print all of them."
      ],
      "metadata": {
        "id": "fjQfFso87Ftc"
      }
    },
    {
      "cell_type": "markdown",
      "source": [
        "#Which genres have just one song on the top 50?"
      ],
      "metadata": {
        "id": "1LMP_vUF5Rwi"
      }
    },
    {
      "cell_type": "code",
      "source": [
        "# Genres with just one song in the top 50\n",
        "genre_counts = df['genre'].value_counts()\n",
        "print('Genres with just one song in the top 50:')\n",
        "for genre in genre_counts[genre_counts == 1].index.tolist():\n",
        "    print(genre)\n"
      ],
      "metadata": {
        "colab": {
          "base_uri": "https://localhost:8080/"
        },
        "id": "Qof2spPw5VlH",
        "outputId": "9e59531d-374e-4fc4-d1f3-aa6b9e4c778a"
      },
      "execution_count": null,
      "outputs": [
        {
          "output_type": "stream",
          "name": "stdout",
          "text": [
            "Genres with just one song in the top 50:\n",
            "Nu-disco\n",
            "R&B/Hip-Hop alternative\n",
            "Pop/Soft Rock\n",
            "Pop rap\n",
            "Hip-Hop/Trap\n",
            "Dance-pop/Disco\n",
            "Disco-pop\n",
            "Dreampop/Hip-Hop/R&B\n",
            "Alternative/reggaeton/experimental\n",
            "Chamber pop\n"
          ]
        }
      ]
    },
    {
      "cell_type": "markdown",
      "source": [
        "This code is used to find the genres that have exactly one song in the top 50 of a DataFrame **df** that has a column named ‘genre’. Here’s a step-by-step explanation:\n",
        "\n",
        "- **genre_counts = df['genre'].value_counts(**): This line counts the frequency of each unique value in the ‘genre’ column of the DataFrame **df** using **value_counts()**. It assigns the resulting Series to the variable **genre_counts**.\n",
        "\n",
        "- **print('Genres with just one song in the top 50:')**: This line simply prints the string ‘Genres with just one song in the top 50:’ to the console.\n",
        "\n",
        "- **for genre in genre_counts[genre_counts == 1].index.tolist():**: This line starts a loop that iterates over the genres in **genre_counts** that have a count of exactly 1. The genres are converted to a list using **tolist()**.\n",
        "\n",
        "- **print(genre)**: This line is inside the loop and is executed once for each genre in **genre_counts[genre_counts == 1].index.tolist()**. It prints the name of the genre to the console.\n",
        "\n",
        "So, in summary, this code finds the genres that have exactly one song in the top 50 in the DataFrame **df** and prints them to the console."
      ],
      "metadata": {
        "id": "37lsKwzU8Chf"
      }
    },
    {
      "cell_type": "markdown",
      "source": [
        "#How many genres in total are represented in the top 50?"
      ],
      "metadata": {
        "id": "ZDbKYQwl5kkz"
      }
    },
    {
      "cell_type": "code",
      "source": [
        "# Total number of genres\n",
        "print('Total number of genres:', df['genre'].nunique(), \"\\n\")"
      ],
      "metadata": {
        "colab": {
          "base_uri": "https://localhost:8080/"
        },
        "id": "mUXegrkQ5ouB",
        "outputId": "3916aafa-e3c3-498c-83e4-da14c4c67bdd"
      },
      "execution_count": null,
      "outputs": [
        {
          "output_type": "stream",
          "name": "stdout",
          "text": [
            "Total number of genres: 16 \n",
            "\n"
          ]
        }
      ]
    },
    {
      "cell_type": "markdown",
      "source": [
        "This line of code prints the total number of unique genres in the ‘genre’ column of the DataFrame **df**.\n",
        "\n",
        "Here’s a breakdown:\n",
        "\n",
        "- **df['genre'].nunique()**: This part of the code calculates the number of unique values in the ‘genre’ column of the DataFrame **df** using the **nunique()** function.\n",
        "\n",
        "- **print('Total number of genres:', df['genre'].nunique(), \"\\n\")**: This part of the code prints a string ‘Total number of genres:’, followed by the number of unique genres calculated above, and then a newline character (\"\\n\"), which moves the cursor to the next line.\n",
        "\n",
        "So, in summary, this line of code prints the total number of unique genres in the DataFrame df to the console."
      ],
      "metadata": {
        "id": "O54HU1uZ9d4r"
      }
    },
    {
      "cell_type": "markdown",
      "source": [
        "#Which features are strongly positively correlated?"
      ],
      "metadata": {
        "id": "73TsTT4S5tGQ"
      }
    },
    {
      "cell_type": "code",
      "source": [
        "# Correlation matrix\n",
        "corr_matrix = df.corr(numeric_only=True)\n",
        "\n",
        "# Strongly positively correlated features\n",
        "print('Strongly positively correlated features:')\n",
        "sorted_corr = corr_matrix.unstack().sort_values(ascending=False)\n",
        "strong_pos_corr = [(idx, val) for idx, val in sorted_corr.items() if val > 0.7 and idx[0] != idx[1]]\n",
        "if strong_pos_corr:\n",
        "    for idx, val in strong_pos_corr:\n",
        "        print(idx, val)\n",
        "else:\n",
        "    print('There are no strongly positively correlated features.')"
      ],
      "metadata": {
        "colab": {
          "base_uri": "https://localhost:8080/"
        },
        "id": "834vNtTP5wxn",
        "outputId": "de65ee30-6986-43b9-9297-6c777c22944e"
      },
      "execution_count": null,
      "outputs": [
        {
          "output_type": "stream",
          "name": "stdout",
          "text": [
            "Strongly positively correlated features:\n",
            "('energy', 'loudness') 0.7916395653045617\n",
            "('loudness', 'energy') 0.7916395653045617\n",
            "\n",
            "\n"
          ]
        }
      ]
    },
    {
      "cell_type": "markdown",
      "source": [
        "This code is used to find and print the pairs of features in a DataFrame **df** that are strongly positively correlated.\n",
        "\n",
        "Here’s a step-by-step explanation:\n",
        "\n",
        "- **corr_matrix = df.corr(numeric_only=True)**: This line calculates the correlation matrix of the DataFrame **df** using the **corr()** function. The **numeric_only=True** argument means that only numeric columns are considered. The resulting correlation matrix **corr_matrix** is a DataFrame where each cell at the intersection of row i and column j contains the correlation coefficient between feature i and feature j.\n",
        "\n",
        "- **print('Strongly positively correlated features:')**: This line simply prints the string ‘Strongly positively correlated features:’ to the console.\n",
        "\n",
        "- **sorted_corr = corr_matrix.unstack().sort_values(ascending=False)**: This line first “unstacks” the correlation matrix into a Series where each element corresponds to a pair of features and their correlation coefficient. It then sorts this Series in descending order (because **ascending=False**) and assigns it to the variable sorted_corr.\n",
        "\n",
        "- **strong_pos_corr = [(idx, val) for idx, val in sorted_corr.items() if val > 0.7 and idx[0] != idx[1]]**: This line is a list comprehension that iterates over the items in **sorted_corr**. For each item, if the correlation coefficient **val** is greater than 0.7 and the two features **idx[0]** and **idx[1]** are not the same, it includes a tuple (idx, val) in the list **strong_pos_corr**.\n",
        "\n",
        "- **if strong_pos_corr:**: This line checks if strong_pos_corr is not empty.\n",
        "\n",
        "- **for idx, val in strong_pos_corr: and print(idx, val)**: If **strong_pos_corr** is not empty, these lines start a loop that iterates over the tuples in **strong_pos_corr** and prints each tuple to the console. Each tuple contains a pair of features and their correlation coefficient.\n",
        "\n",
        "- **else: and print('There are no strongly positively correlated features.')**: If **strong_pos_corr** is empty, these lines print the string ‘There are no strongly positively correlated features.’ to the console.\n",
        "\n",
        "So, in summary, this code finds the pairs of features in the DataFrame **df** that are strongly positively correlated (with a correlation coefficient greater than 0.7) and prints them to the console. If there are no such pairs, it prints ‘There are no strongly positively correlated features.’."
      ],
      "metadata": {
        "id": "5laYjFN8-HM0"
      }
    },
    {
      "cell_type": "markdown",
      "source": [
        "#Which features are strongly negatively correlated?"
      ],
      "metadata": {
        "id": "JZHr0xId7MT6"
      }
    },
    {
      "cell_type": "code",
      "source": [
        "# Strongly negatively correlated features\n",
        "print('Strongly negatively correlated features:')\n",
        "sorted_corr = corr_matrix.unstack().sort_values()\n",
        "strong_neg_corr = [(idx, val) for idx, val in sorted_corr.items() if val < -0.7 and idx[0] != idx[1]]\n",
        "if strong_neg_corr:\n",
        "    for idx, val in strong_neg_corr:\n",
        "        print(idx, val)\n",
        "else:\n",
        "    print('There are no strongly negatively correlated features.')"
      ],
      "metadata": {
        "colab": {
          "base_uri": "https://localhost:8080/"
        },
        "id": "rOsdq5_c7PsT",
        "outputId": "d94f3255-4472-4780-f321-09dae171c054"
      },
      "execution_count": null,
      "outputs": [
        {
          "output_type": "stream",
          "name": "stdout",
          "text": [
            "Strongly negatively correlated features:\n",
            "There are no strongly negatively correlated features.\n",
            "\n",
            "\n"
          ]
        }
      ]
    },
    {
      "cell_type": "markdown",
      "source": [
        "This line uses the same functions as the one above it but instead of condition **val > 0.7** the condition is **val < -0.7**"
      ],
      "metadata": {
        "id": "jjnQpTX0_ZFE"
      }
    },
    {
      "cell_type": "markdown",
      "source": [
        "#Which features are not correlated?"
      ],
      "metadata": {
        "id": "XOA-70389hZV"
      }
    },
    {
      "cell_type": "code",
      "source": [
        "# Features not correlated\n",
        "print('Features not correlated:')\n",
        "no_corr = [(idx, val) for idx, val in corr_matrix.unstack().items() if val == 0 and idx[0] != idx[1]]\n",
        "if no_corr:\n",
        "    for idx, val in no_corr:\n",
        "        print(idx, val)\n",
        "else:\n",
        "    print('There are no uncorrelated features.')"
      ],
      "metadata": {
        "colab": {
          "base_uri": "https://localhost:8080/"
        },
        "id": "woRsHx869jFZ",
        "outputId": "e3ea91ec-b24b-4a33-878f-508f00fcaf15"
      },
      "execution_count": null,
      "outputs": [
        {
          "output_type": "stream",
          "name": "stdout",
          "text": [
            "Features not correlated:\n",
            "There are no uncorrelated features.\n",
            "\n",
            "\n"
          ]
        }
      ]
    },
    {
      "cell_type": "markdown",
      "source": [
        "This code is used to find and print the pairs of features in a DataFrame that are not correlated (i.e., their correlation coefficient is 0).\n",
        "\n",
        "Here’s a step-by-step explanation:\n",
        "\n",
        "- **print('Features not correlated:')**: This line simply prints the string ‘Features not correlated:’ to the console.\n",
        "\n",
        "- **no_corr = [(idx, val) for idx, val in corr_matrix.unstack().items() if val == 0 and idx[0] != idx[1]]**: This line is a list comprehension that iterates over the **items** in **corr_matrix.unstack()**. For each item, if the correlation coefficient **val** is 0 and the two features **idx[0]** and **idx[1]** are not the same, it includes a tuple (idx, val) in the list **no_corr**.\n",
        "\n",
        "- **if no_corr:**: This line checks if **no_corr** is not empty.\n",
        "\n",
        "- **for idx, val in no_corr: and print(idx, val)**: If **no_corr** is not empty, these lines start a loop that iterates over the tuples in **no_corr** and prints each tuple to the console. Each tuple contains a pair of features and their correlation coefficient.\n",
        "\n",
        "- **else: and print('There are no uncorrelated features.')**: If **no_corr** is empty, these lines print the string ‘There are no uncorrelated features.’ to the console.\n",
        "\n",
        "So, in summary, this code finds the pairs of features in the DataFrame that are not correlated (i.e., their correlation coefficient is 0) and prints them to the console. If there are no such pairs, it prints ‘There are no uncorrelated features.’."
      ],
      "metadata": {
        "id": "3cFz8d2dBcSo"
      }
    },
    {
      "cell_type": "markdown",
      "source": [
        "#How does the danceability score compare between Pop, Hip-Hop/Rap, Dance/Electronic, and Alternative/Indie genres?"
      ],
      "metadata": {
        "id": "-X8rNGIWCev3"
      }
    },
    {
      "cell_type": "code",
      "source": [
        "# Compare scores between genres\n",
        "genres = ['Pop', 'Hip-Hop/Rap', 'Dance/Electronic', 'Alternative/Indie']\n",
        "for genre in genres:\n",
        "    print(f'Average danceability score for {genre}:', df[df['genre'] == genre]['danceability'].mean(), \"\\n\")"
      ],
      "metadata": {
        "colab": {
          "base_uri": "https://localhost:8080/"
        },
        "id": "CFGp3WIvChaT",
        "outputId": "bdbf2d1e-ccf7-447b-b2c9-3ac358ddd7f5"
      },
      "execution_count": null,
      "outputs": [
        {
          "output_type": "stream",
          "name": "stdout",
          "text": [
            "Average danceability score for Pop: 0.6775714285714286 \n",
            "\n",
            "Average danceability score for Hip-Hop/Rap: 0.7655384615384614 \n",
            "\n",
            "Average danceability score for Dance/Electronic: 0.7550000000000001 \n",
            "\n",
            "Average danceability score for Alternative/Indie: 0.6617500000000001 \n",
            "\n"
          ]
        }
      ]
    },
    {
      "cell_type": "markdown",
      "source": [
        "This code is used to calculate and print the average ‘danceability’ score for a list of specified genres in a DataFrame **df** that has columns named ‘genre’ and ‘danceability’.\n",
        "\n",
        "Here’s a step-by-step explanation:\n",
        "\n",
        "- **genres = ['Pop', 'Hip-Hop/Rap', 'Dance/Electronic', 'Alternative/Indie']**: This line defines a list of genres for which the average ‘danceability’ score will be calculated.\n",
        "\n",
        "- **for genre in genres:**: This line starts a loop that iterates over each genre in the genres list.\n",
        "\n",
        "- **print(f'Average danceability score for {genre}:', df[df['genre'] == genre]['danceability'].mean(), \"\\n\")**: This line is inside the loop and is executed once for each genre. It does the following:\n",
        "\n",
        "  - **df[df['genre'] == genre]['danceability']**: This part of the code selects the ‘danceability’ scores from the DataFrame df for the songs that belong to the current genre.\n",
        "\n",
        "  - **.mean()**: This part of the code calculates the average of the selected ‘danceability’ scores.\n",
        "\n",
        "  - **print(f'Average danceability score for {genre}:', ..., \"\\n\")**: This part of the code prints a string that includes the name of the current genre and its average ‘danceability’ score. The \"\\n\" at the end of the print statement adds a newline character after each printed line, which means that the next printed line will start on a new line.\n",
        "\n",
        "So, in summary, this code calculates and prints the average ‘danceability’ score for each genre in the **genres** list from the DataFrame **df**."
      ],
      "metadata": {
        "id": "VkQokrKTC0bg"
      }
    },
    {
      "cell_type": "markdown",
      "source": [
        "#How does the loudness score compare between Pop, Hip-Hop/Rap, Dance/Electronic, and Alternative/Indie genres?"
      ],
      "metadata": {
        "id": "Bf6AnqyDIArV"
      }
    },
    {
      "cell_type": "code",
      "source": [
        "for genre in genres:\n",
        "  print(f'Average loudness score for {genre}:', df[df['genre'] == genre]['loudness'].mean(), \"\\n\")"
      ],
      "metadata": {
        "colab": {
          "base_uri": "https://localhost:8080/"
        },
        "id": "OK674_6pIEjb",
        "outputId": "ce8da3d0-23c6-474c-c830-6f993926ed6d"
      },
      "execution_count": null,
      "outputs": [
        {
          "output_type": "stream",
          "name": "stdout",
          "text": [
            "Average loudness score for Pop: -6.460357142857143 \n",
            "\n",
            "Average loudness score for Hip-Hop/Rap: -6.917846153846154 \n",
            "\n",
            "Average loudness score for Dance/Electronic: -5.338 \n",
            "\n",
            "Average loudness score for Alternative/Indie: -5.420999999999999 \n",
            "\n"
          ]
        }
      ]
    },
    {
      "cell_type": "markdown",
      "source": [
        "This part of code uses already defined list of genres and calculates and prints the average 'loudness' score for each genre in the **genres** list from the DataFrame **df**."
      ],
      "metadata": {
        "id": "zjrLxgHXDs4I"
      }
    },
    {
      "cell_type": "markdown",
      "source": [
        "#How does the acousticness score compare between Pop, Hip-Hop/Rap, Dance/Electronic, and Alternative/Indie genres?"
      ],
      "metadata": {
        "id": "o4fhFqvGIYJL"
      }
    },
    {
      "cell_type": "code",
      "source": [
        "for genre in genres:\n",
        "  print(f'Average acousticness score for {genre}:', df[df['genre'] == genre]['acousticness'].mean(), \"\\n\")"
      ],
      "metadata": {
        "colab": {
          "base_uri": "https://localhost:8080/"
        },
        "id": "ZViI9rbUIiUr",
        "outputId": "47c115ee-945f-4006-a0a4-fa86c4657499"
      },
      "execution_count": null,
      "outputs": [
        {
          "output_type": "stream",
          "name": "stdout",
          "text": [
            "Average acousticness score for Pop: 0.3238428571428571 \n",
            "\n",
            "Average acousticness score for Hip-Hop/Rap: 0.18874076923076927 \n",
            "\n",
            "Average acousticness score for Dance/Electronic: 0.09944 \n",
            "\n",
            "Average acousticness score for Alternative/Indie: 0.5835 \n",
            "\n"
          ]
        }
      ]
    },
    {
      "cell_type": "markdown",
      "source": [
        "This part of code uses already defined list of genres and calculates and prints the average 'acousticness' score for each genre in the **genres** list from the DataFrame **df**."
      ],
      "metadata": {
        "id": "44Tpslz1EjEM"
      }
    }
  ]
}